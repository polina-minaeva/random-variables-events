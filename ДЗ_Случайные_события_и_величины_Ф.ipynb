{
  "nbformat": 4,
  "nbformat_minor": 0,
  "metadata": {
    "colab": {
      "provenance": []
    },
    "kernelspec": {
      "name": "python3",
      "display_name": "Python 3"
    },
    "language_info": {
      "name": "python"
    }
  },
  "cells": [
    {
      "cell_type": "code",
      "execution_count": null,
      "metadata": {
        "id": "E1GTris-n54G"
      },
      "outputs": [],
      "source": [
        "Смоделировать игру против лотерейного автомата типа “777”. Игрок платит 1 руб., \n",
        "после чего выпадает случайное целое число, равномерно распределенное от 0 до 999. \n",
        "При некоторых значениях числа игрок получает выигрыш.\n",
        "\n",
        "777: 200 руб.\n",
        "999: 100 руб.\n",
        "555: 50 руб.\n",
        "333: 15 руб.\n",
        "111: 10 руб.\n",
        "*77: 5 руб.\n",
        "**7: 3 руб.\n",
        "*00: 2 руб.\n",
        "**0: 1 руб.\n",
        "\n",
        "Вопросы:\n",
        "\n",
        "Выгодна ли игра игроку?\n",
        "Сколько в среднем приобретает или теряет игрок за одну игру?\n",
        "**Дополнительное задание повышенной сложности. **\n",
        "\n",
        "Теоретически рассчитать средний выигрыш (проигрыш) и сравнить с результатами моделирования\n",
        "\n",
        "– любая цифра"
      ]
    },
    {
      "cell_type": "code",
      "source": [
        "import numpy as np\n",
        "trials = 1000000          # Кол-во попыток\n",
        "successes = 0        # Кол-во успешных попыток\n",
        "gained = 0\n",
        "depos = 0\n",
        "pos1 = 0\n",
        "pos2 = 0\n",
        "pos3 = 0\n",
        "pos4 = 0\n",
        "\n",
        "for i in range(trials): \n",
        "  depos +=1\n",
        "  random_score = np.random.randint(0, 1000)          # Случайное количество очков от 0 до 999\n",
        "  if random_score == 777:\n",
        "    successes += 1\n",
        "    gained += 200\n",
        "\n",
        "  elif random_score == 999:\n",
        "    successes += 1\n",
        "    gained += 100\n",
        "\n",
        "  elif random_score == 555:\n",
        "    successes += 1    \n",
        "    gained += 50\n",
        "\n",
        "  elif random_score == 333:\n",
        "    successes += 1\n",
        "    gained += 15\n",
        "\n",
        "  elif random_score == 111:\n",
        "    successes += 1\n",
        "    gained += 10\n",
        "\n",
        "  elif random_score % 100 == 77:\n",
        "    successes += 1\n",
        "    gained += 5\n",
        "    pos1 += 1\n",
        "  \n",
        "  elif random_score % 10 == 7:\n",
        "    successes += 1\n",
        "    gained += 3\n",
        "    pos2 += 1\n",
        "    \n",
        "  elif random_score % 100 == 0:\n",
        "    successes += 1\n",
        "    gained += 2\n",
        "    pos3 += 1\n",
        "\n",
        "  elif random_score % 10 == 0:\n",
        "    successes += 1\n",
        "    gained += 1\n",
        "    pos4 += 1\n",
        "  \n",
        "print('Игрок заработал', gained, 'руб.')\n",
        "print('Игрок потратил', depos, 'руб.')\n",
        "print(f'Игрок потерял {1 - gained / depos:.2%} своих денежных средств')"
      ],
      "metadata": {
        "colab": {
          "base_uri": "https://localhost:8080/"
        },
        "id": "IjIgoyZQ2Dt-",
        "outputId": "05ebe282-9037-49ba-d536-06a05e0d8a12"
      },
      "execution_count": null,
      "outputs": [
        {
          "output_type": "stream",
          "name": "stdout",
          "text": [
            "Игрок заработал 795093 руб.\n",
            "Игрок потратил 1000000 руб.\n",
            "Игрок потерял 20.49% своих денежных средств\n"
          ]
        }
      ]
    },
    {
      "cell_type": "markdown",
      "source": [
        "Игра не выгодна игроку, так как он потерял 20% своих денежных средств"
      ],
      "metadata": {
        "id": "wkCefNaU2F5o"
      }
    }
  ]
}